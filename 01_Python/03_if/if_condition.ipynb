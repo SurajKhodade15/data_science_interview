{
 "cells": [
  {
   "cell_type": "code",
   "metadata": {
    "ExecuteTime": {
     "end_time": "2025-07-02T17:25:38.578652Z",
     "start_time": "2025-07-02T17:25:33.159151Z"
    }
   },
   "source": [
    "n=input(\"Enter a number\")"
   ],
   "outputs": [],
   "execution_count": 3
  },
  {
   "cell_type": "code",
   "metadata": {
    "ExecuteTime": {
     "end_time": "2025-07-02T17:25:38.716974Z",
     "start_time": "2025-07-02T17:25:38.705426Z"
    }
   },
   "source": [
    "n"
   ],
   "outputs": [
    {
     "data": {
      "text/plain": [
       "'10'"
      ]
     },
     "execution_count": 4,
     "metadata": {},
     "output_type": "execute_result"
    }
   ],
   "execution_count": 4
  },
  {
   "cell_type": "code",
   "metadata": {
    "ExecuteTime": {
     "end_time": "2025-07-02T17:25:38.862566Z",
     "start_time": "2025-07-02T17:25:38.854094Z"
    }
   },
   "source": [
    "n=int(n)\n",
    "n"
   ],
   "outputs": [
    {
     "data": {
      "text/plain": [
       "10"
      ]
     },
     "execution_count": 5,
     "metadata": {},
     "output_type": "execute_result"
    }
   ],
   "execution_count": 5
  },
  {
   "cell_type": "code",
   "metadata": {
    "ExecuteTime": {
     "end_time": "2025-07-02T17:25:38.942177Z",
     "start_time": "2025-07-02T17:25:38.934621Z"
    }
   },
   "source": [
    "if n%2 == 0:\n",
    "    print(\"Number is even\")\n",
    "else:\n",
    "    print(\"Number is odd\")"
   ],
   "outputs": [
    {
     "name": "stdout",
     "output_type": "stream",
     "text": [
      "Number is even\n"
     ]
    }
   ],
   "execution_count": 6
  },
  {
   "cell_type": "markdown",
   "metadata": {},
   "source": [
    "<h3 style=\"color:purple\">Conditional operators for if condition</h3>"
   ]
  },
  {
   "cell_type": "code",
   "metadata": {
    "ExecuteTime": {
     "end_time": "2025-07-02T17:25:39.064434Z",
     "start_time": "2025-07-02T17:25:39.051616Z"
    }
   },
   "source": "3==8",
   "outputs": [
    {
     "data": {
      "text/plain": [
       "False"
      ]
     },
     "execution_count": 7,
     "metadata": {},
     "output_type": "execute_result"
    }
   ],
   "execution_count": 7
  },
  {
   "cell_type": "code",
   "metadata": {
    "ExecuteTime": {
     "end_time": "2025-07-02T17:25:39.160948Z",
     "start_time": "2025-07-02T17:25:39.151623Z"
    }
   },
   "source": [
    "3==4"
   ],
   "outputs": [
    {
     "data": {
      "text/plain": [
       "False"
      ]
     },
     "execution_count": 8,
     "metadata": {},
     "output_type": "execute_result"
    }
   ],
   "execution_count": 8
  },
  {
   "cell_type": "code",
   "metadata": {
    "ExecuteTime": {
     "end_time": "2025-07-02T17:25:39.319627Z",
     "start_time": "2025-07-02T17:25:39.306977Z"
    }
   },
   "source": [
    "10>9"
   ],
   "outputs": [
    {
     "data": {
      "text/plain": [
       "True"
      ]
     },
     "execution_count": 9,
     "metadata": {},
     "output_type": "execute_result"
    }
   ],
   "execution_count": 9
  },
  {
   "cell_type": "code",
   "metadata": {
    "ExecuteTime": {
     "end_time": "2025-07-02T17:25:39.441806Z",
     "start_time": "2025-07-02T17:25:39.433409Z"
    }
   },
   "source": [
    "4<4"
   ],
   "outputs": [
    {
     "data": {
      "text/plain": [
       "False"
      ]
     },
     "execution_count": 10,
     "metadata": {},
     "output_type": "execute_result"
    }
   ],
   "execution_count": 10
  },
  {
   "cell_type": "code",
   "metadata": {
    "ExecuteTime": {
     "end_time": "2025-07-02T17:25:39.568940Z",
     "start_time": "2025-07-02T17:25:39.560531Z"
    }
   },
   "source": [
    "4==4"
   ],
   "outputs": [
    {
     "data": {
      "text/plain": [
       "True"
      ]
     },
     "execution_count": 11,
     "metadata": {},
     "output_type": "execute_result"
    }
   ],
   "execution_count": 11
  },
  {
   "cell_type": "code",
   "metadata": {
    "ExecuteTime": {
     "end_time": "2025-07-02T17:25:39.666135Z",
     "start_time": "2025-07-02T17:25:39.657989Z"
    }
   },
   "source": [
    "not 4==4"
   ],
   "outputs": [
    {
     "data": {
      "text/plain": [
       "False"
      ]
     },
     "execution_count": 12,
     "metadata": {},
     "output_type": "execute_result"
    }
   ],
   "execution_count": 12
  },
  {
   "cell_type": "code",
   "metadata": {
    "ExecuteTime": {
     "end_time": "2025-07-02T17:25:39.844145Z",
     "start_time": "2025-07-02T17:25:39.833399Z"
    }
   },
   "source": [
    "4<=4"
   ],
   "outputs": [
    {
     "data": {
      "text/plain": [
       "True"
      ]
     },
     "execution_count": 13,
     "metadata": {},
     "output_type": "execute_result"
    }
   ],
   "execution_count": 13
  },
  {
   "cell_type": "markdown",
   "metadata": {},
   "source": [
    "Find if number is more than 10 and also even"
   ]
  },
  {
   "cell_type": "code",
   "metadata": {
    "ExecuteTime": {
     "end_time": "2025-07-02T17:25:40.006805Z",
     "start_time": "2025-07-02T17:25:39.996845Z"
    }
   },
   "source": [
    "n=8\n",
    "if n > 10 and n%2==0:\n",
    "    print(\"Yay\")\n",
    "else:\n",
    "    print(\"Nope\")"
   ],
   "outputs": [
    {
     "name": "stdout",
     "output_type": "stream",
     "text": [
      "Nope\n"
     ]
    }
   ],
   "execution_count": 14
  },
  {
   "cell_type": "markdown",
   "metadata": {},
   "source": [
    "<h3 style=\"color:purple\">Write code that takes dish name as input and tells you which cuisine it is</h3>"
   ]
  },
  {
   "cell_type": "code",
   "metadata": {
    "ExecuteTime": {
     "end_time": "2025-07-02T17:25:40.244263Z",
     "start_time": "2025-07-02T17:25:40.235527Z"
    }
   },
   "source": [
    "mexican = [\"taco\",\"enchilada\",\"burrito\"]\n",
    "italian = [\"pasta\",\"ravioli\",\"pizza\"]\n",
    "indian = [\"biryani\",\"samosa\",\"curry\"]"
   ],
   "outputs": [],
   "execution_count": 15
  },
  {
   "cell_type": "code",
   "metadata": {
    "ExecuteTime": {
     "end_time": "2025-07-02T17:25:48.041077Z",
     "start_time": "2025-07-02T17:25:40.293005Z"
    }
   },
   "source": [
    "dish = input(\"Enter a dish name\")"
   ],
   "outputs": [],
   "execution_count": 16
  },
  {
   "cell_type": "code",
   "metadata": {
    "scrolled": true,
    "ExecuteTime": {
     "end_time": "2025-07-02T17:25:48.121419Z",
     "start_time": "2025-07-02T17:25:48.113112Z"
    }
   },
   "source": [
    "if dish in mexican:\n",
    "    print(f\"{dish} is mexican\")\n",
    "elif dish in italian:\n",
    "    print(f\"{dish} is italian\")\n",
    "elif dish in indian:\n",
    "    print(f\"{dish} is indian\")\n",
    "else:\n",
    "    print(f\"not sure which cuisine is {dish}\")"
   ],
   "outputs": [
    {
     "name": "stdout",
     "output_type": "stream",
     "text": [
      "samosa is indian\n"
     ]
    }
   ],
   "execution_count": 17
  },
  {
   "cell_type": "markdown",
   "metadata": {},
   "source": [
    "<h3 style=\"color:purple\">Ternary operator</h3>"
   ]
  },
  {
   "cell_type": "code",
   "metadata": {
    "ExecuteTime": {
     "end_time": "2025-07-02T17:25:48.284641Z",
     "start_time": "2025-07-02T17:25:48.276560Z"
    }
   },
   "source": [
    "n=1\n",
    "message = \"Number is even\" if n%2==0 else \"Number is odd\"\n",
    "message"
   ],
   "outputs": [
    {
     "data": {
      "text/plain": [
       "'Number is odd'"
      ]
     },
     "execution_count": 18,
     "metadata": {},
     "output_type": "execute_result"
    }
   ],
   "execution_count": 18
  }
 ],
 "metadata": {
  "kernelspec": {
   "display_name": "venv",
   "language": "python",
   "name": "python3"
  },
  "language_info": {
   "codemirror_mode": {
    "name": "ipython",
    "version": 3
   },
   "file_extension": ".py",
   "mimetype": "text/x-python",
   "name": "python",
   "nbconvert_exporter": "python",
   "pygments_lexer": "ipython3",
   "version": "3.13.5"
  }
 },
 "nbformat": 4,
 "nbformat_minor": 4
}
