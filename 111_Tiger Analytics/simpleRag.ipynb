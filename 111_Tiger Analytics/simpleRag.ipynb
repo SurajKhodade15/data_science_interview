{
 "cells": [
  {
   "cell_type": "code",
   "execution_count": 50,
   "id": "0885a974",
   "metadata": {},
   "outputs": [
    {
     "data": {
      "text/plain": [
       "True"
      ]
     },
     "execution_count": 50,
     "metadata": {},
     "output_type": "execute_result"
    }
   ],
   "source": [
    "import os\n",
    "from dotenv import load_dotenv\n",
    "from langchain.document_loaders import PyPDFLoader\n",
    "from langchain.text_splitter import RecursiveCharacterTextSplitter\n",
    "from langchain.embeddings.openai import OpenAIEmbeddings\n",
    "from langchain.vectorstores import Chroma\n",
    "from langchain_community.chat_models import ChatOpenAI\n",
    "from langchain.prompts import PromptTemplate\n",
    "from langchain.chains import RetrievalQA\n",
    "load_dotenv()"
   ]
  },
  {
   "cell_type": "code",
   "execution_count": 51,
   "id": "63ca983c",
   "metadata": {},
   "outputs": [],
   "source": [
    "OPENAI_API_KEY = os.getenv(\"OPENAI_API_KEY\")\n",
    "\n",
    "if not OPENAI_API_KEY:\n",
    "    raise ValueError(\"OPEN AI KEY IS MISSING\")"
   ]
  },
  {
   "cell_type": "code",
   "execution_count": 52,
   "id": "688db073",
   "metadata": {},
   "outputs": [],
   "source": [
    "pdf_path = 'Generative-AI.pdf'\n",
    "loader = PyPDFLoader(pdf_path)\n",
    "docs = loader.load()"
   ]
  },
  {
   "cell_type": "code",
   "execution_count": 53,
   "id": "348084e9",
   "metadata": {},
   "outputs": [
    {
     "data": {
      "text/plain": [
       "47"
      ]
     },
     "execution_count": 53,
     "metadata": {},
     "output_type": "execute_result"
    }
   ],
   "source": [
    "docs.__len__()"
   ]
  },
  {
   "cell_type": "code",
   "execution_count": 54,
   "id": "076c35b0",
   "metadata": {},
   "outputs": [],
   "source": [
    "splitter = RecursiveCharacterTextSplitter(chunk_size = 1000, chunk_overlap = 200)\n",
    "split_docs = splitter.split_documents(docs)"
   ]
  },
  {
   "cell_type": "code",
   "execution_count": 55,
   "id": "7b3b7639",
   "metadata": {},
   "outputs": [],
   "source": [
    "embeddings = OpenAIEmbeddings(model = 'text-embedding-3-small')"
   ]
  },
  {
   "cell_type": "code",
   "execution_count": 56,
   "id": "8262a3b7",
   "metadata": {},
   "outputs": [],
   "source": [
    "vectorstore = Chroma.from_documents(\n",
    "    documents=split_docs,\n",
    "    embedding=embeddings\n",
    ")"
   ]
  },
  {
   "cell_type": "code",
   "execution_count": 57,
   "id": "48ac416f",
   "metadata": {},
   "outputs": [],
   "source": [
    "retriever = vectorstore.as_retriever(search_kwargs={\"k\": 4})"
   ]
  },
  {
   "cell_type": "code",
   "execution_count": 58,
   "id": "d890ae79",
   "metadata": {},
   "outputs": [],
   "source": [
    "llm = ChatOpenAI(model_name='gpt-4o-mini', temperature=0)"
   ]
  },
  {
   "cell_type": "code",
   "execution_count": 59,
   "id": "6de57f3e",
   "metadata": {},
   "outputs": [],
   "source": [
    "prompt_template = \"\"\"\n",
    "You are a knowledgeable assistant. Use the provided context to answer the user's question accurately.\n",
    "If the answer is not found in the context, respond with \"I don't know\" and suggest what to check next.\n",
    "\n",
    "Context:\n",
    "{context}\n",
    "\n",
    "Question:\n",
    "{question}\n",
    "\n",
    "Answer:\n",
    "\"\"\"\n",
    "PROMPT = PromptTemplate(template=prompt_template, input_variables=[\"context\", \"question\"])"
   ]
  },
  {
   "cell_type": "code",
   "execution_count": 60,
   "id": "6b72b805",
   "metadata": {},
   "outputs": [],
   "source": [
    "rag_chain = RetrievalQA.from_chain_type(\n",
    "    llm=llm,\n",
    "    chain_type=\"stuff\",\n",
    "    retriever=retriever,\n",
    "    return_source_documents=True,\n",
    "    chain_type_kwargs={\"prompt\": PROMPT},\n",
    ")"
   ]
  },
  {
   "cell_type": "code",
   "execution_count": 65,
   "id": "777b2ae0",
   "metadata": {},
   "outputs": [
    {
     "name": "stdout",
     "output_type": "stream",
     "text": [
      "\n",
      "=== ANSWER ===\n",
      "I don't know. I suggest checking the original paper titled “TAC-GAN – Text to Image Generation via Adversarial Learning” or related literature on GANs for more specific information about TAC-GAN and its challenges.\n",
      "\n",
      "=== SOURCE PREVIEWS ===\n",
      "\n",
      "[1] their 2017 paper titled “TAC-GAN – Text \n",
      "This bird is completely black.\n",
      "This bird is bright blue.\n",
      "Beak\n",
      "Head\n",
      "A man in an orange jacket,\n",
      "black pants and a black cap\n",
      "wearing sunglasses skiing\n",
      "Belly\n",
      "Right...\n",
      "\n",
      "[2] their 2017 paper titled “TAC-GAN – Text \n",
      "This bird is completely black.\n",
      "This bird is bright blue.\n",
      "Beak\n",
      "Head\n",
      "A man in an orange jacket,\n",
      "black pants and a black cap\n",
      "wearing sunglasses skiing\n",
      "Belly\n",
      "Right...\n",
      "\n",
      "[3] their 2017 paper titled “TAC-GAN – Text \n",
      "This bird is completely black.\n",
      "This bird is bright blue.\n",
      "Beak\n",
      "Head\n",
      "A man in an orange jacket,\n",
      "black pants and a black cap\n",
      "wearing sunglasses skiing\n",
      "Belly\n",
      "Right...\n",
      "\n",
      "[4] Accuracy of the result is another challenge that \n",
      "crops up while implementing this technology. \n",
      "GAN's processes remain unstable and difﬁcult to \n",
      "regulate, with the potential to produce completely \n",
      "une...\n"
     ]
    }
   ],
   "source": [
    "query = \"TAC-GAN\"\n",
    "result = rag_chain({\"query\": query})\n",
    "\n",
    "answer = result[\"result\"]\n",
    "\n",
    "if \"I don't know\" not in answer:\n",
    "    # Ask LLM to elaborate more on the result\n",
    "    followup_query = f\"Please elaborate more on: {answer}\"\n",
    "    followup_result = rag_chain({\"query\": followup_query})\n",
    "    answer = followup_result[\"result\"]\n",
    "\n",
    "print(\"\\n=== ANSWER ===\")\n",
    "print(answer)\n",
    "\n",
    "print(\"\\n=== SOURCE PREVIEWS ===\")\n",
    "for i, doc in enumerate(result[\"source_documents\"], start=1):\n",
    "    print(f\"\\n[{i}] {doc.page_content[:200]}...\")"
   ]
  },
  {
   "cell_type": "code",
   "execution_count": null,
   "id": "d01ecb69",
   "metadata": {},
   "outputs": [],
   "source": []
  }
 ],
 "metadata": {
  "kernelspec": {
   "display_name": "Python 3",
   "language": "python",
   "name": "python3"
  },
  "language_info": {
   "codemirror_mode": {
    "name": "ipython",
    "version": 3
   },
   "file_extension": ".py",
   "mimetype": "text/x-python",
   "name": "python",
   "nbconvert_exporter": "python",
   "pygments_lexer": "ipython3",
   "version": "3.11.0"
  }
 },
 "nbformat": 4,
 "nbformat_minor": 5
}
