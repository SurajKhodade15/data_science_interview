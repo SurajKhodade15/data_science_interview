{
 "cells": [
  {
   "cell_type": "code",
   "execution_count": 3,
   "id": "e19c9014",
   "metadata": {},
   "outputs": [
    {
     "name": "stdout",
     "output_type": "stream",
     "text": [
      "3\n"
     ]
    },
    {
     "data": {
      "text/plain": [
       "[[7, 4, 1], [8, 5, 2], [9, 6, 3]]"
      ]
     },
     "execution_count": 3,
     "metadata": {},
     "output_type": "execute_result"
    }
   ],
   "source": [
    "def rotate_matrix_90(matrix):\n",
    "    \"\"\"\n",
    "    Rotates the given n x n matrix 90 degrees clockwise in-place.\n",
    "\n",
    "    :param matrix: List[List[int]] - n x n matrix\n",
    "    \"\"\"\n",
    "    n = len(matrix)\n",
    "    print(n)\n",
    "    \n",
    "    # Step 1: Transpose the matrix\n",
    "    for i in range(n):\n",
    "        for j in range(i+1, n):\n",
    "            matrix[i][j], matrix[j][i] = matrix[j][i], matrix[i][j]\n",
    "    \n",
    "    # Step 2: Reverse each row\n",
    "    for i in range(n):\n",
    "        matrix[i].reverse()\n",
    "    \n",
    "    return matrix  # optional, since modification is in-place\n",
    "\n",
    "\n",
    "# Example Usage\n",
    "matrix = [\n",
    "    [1, 2, 3],\n",
    "    [4, 5, 6],\n",
    "    [7, 8, 9]\n",
    "]\n",
    "\n",
    "rotate_matrix_90(matrix)\n",
    "matrix\n"
   ]
  },
  {
   "cell_type": "code",
   "execution_count": 12,
   "id": "c6551acb",
   "metadata": {},
   "outputs": [
    {
     "name": "stdout",
     "output_type": "stream",
     "text": [
      "Top 3 terms using dict: [('data', 3), ('python', 2), ('science', 1), ('with', 1)]\n"
     ]
    }
   ],
   "source": [
    "import re\n",
    "import heapq\n",
    "\n",
    "def preprocess(text):\n",
    "    \"\"\"Lowercase and remove punctuation, return list of words.\"\"\"\n",
    "    text = text.lower()\n",
    "    words = re.findall(r'\\b\\w+\\b', text)\n",
    "    return words\n",
    "\n",
    "def word_count_dict(words):\n",
    "    \"\"\"Count word frequencies using a plain dictionary.\"\"\"\n",
    "    freq = {}\n",
    "    for word in words:\n",
    "        if word in freq:\n",
    "            freq[word] += 1\n",
    "        else:\n",
    "            freq[word] = 1\n",
    "    return freq\n",
    "\n",
    "def top_n_terms_dict(freq_dict, N):\n",
    "    \"\"\"Return top N terms using heapq.\"\"\"\n",
    "    return heapq.nlargest(N, freq_dict.items(), key=lambda x: x[1])\n",
    "\n",
    "\n",
    "# Example usage\n",
    "paragraph = \"\"\"\n",
    "Data science with Python is powerful. Python enables data analysis, machine learning,\n",
    "and statistics for data scientists.\n",
    "\"\"\"\n",
    "words = preprocess(paragraph)\n",
    "freq_dict = word_count_dict(words)\n",
    "top3_dict = top_n_terms_dict(freq_dict, 4)\n",
    "\n",
    "print(\"Top 3 terms using dict:\", top3_dict)\n"
   ]
  },
  {
   "cell_type": "code",
   "execution_count": 11,
   "id": "cea44917",
   "metadata": {},
   "outputs": [
    {
     "name": "stdout",
     "output_type": "stream",
     "text": [
      "Top 3 terms using Counter: [('data', 3), ('python', 2), ('science', 1)]\n"
     ]
    }
   ],
   "source": [
    "import re\n",
    "from collections import Counter\n",
    "\n",
    "def preprocess(text):\n",
    "    \"\"\"Lowercase and remove punctuation, return list of words.\"\"\"\n",
    "    text = text.lower()\n",
    "    words = re.findall(r'\\b\\w+\\b', text)\n",
    "    return words\n",
    "\n",
    "def word_count_counter(words):\n",
    "    \"\"\"Count word frequencies using Counter.\"\"\"\n",
    "    return Counter(words)\n",
    "\n",
    "def top_n_terms_counter(counter_obj, N):\n",
    "    \"\"\"Return top N terms using Counter's most_common.\"\"\"\n",
    "    return counter_obj.most_common(N)\n",
    "\n",
    "\n",
    "# Example usage\n",
    "paragraph = \"\"\"\n",
    "Data science with Python is powerful. Python enables data analysis, machine learning,\n",
    "and statistics for data scientists.\n",
    "\"\"\"\n",
    "words = preprocess(paragraph)\n",
    "freq_counter = word_count_counter(words)\n",
    "top3_counter = top_n_terms_counter(freq_counter, 3)\n",
    "\n",
    "print(\"Top 3 terms using Counter:\", top3_counter)\n"
   ]
  },
  {
   "cell_type": "code",
   "execution_count": null,
   "id": "f1e639fc",
   "metadata": {},
   "outputs": [],
   "source": []
  }
 ],
 "metadata": {
  "kernelspec": {
   "display_name": "Python 3",
   "language": "python",
   "name": "python3"
  },
  "language_info": {
   "codemirror_mode": {
    "name": "ipython",
    "version": 3
   },
   "file_extension": ".py",
   "mimetype": "text/x-python",
   "name": "python",
   "nbconvert_exporter": "python",
   "pygments_lexer": "ipython3",
   "version": "3.11.0"
  }
 },
 "nbformat": 4,
 "nbformat_minor": 5
}
